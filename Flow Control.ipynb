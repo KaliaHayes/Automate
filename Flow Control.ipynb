{
 "cells": [
  {
   "cell_type": "markdown",
   "metadata": {},
   "source": [
    "# [Chapter 2: Flow Control](https://automatetheboringstuff.com/chapter2/)"
   ]
  },
  {
   "cell_type": "markdown",
   "metadata": {},
   "source": [
    "## If, Else, Else If"
   ]
  },
  {
   "cell_type": "code",
   "execution_count": 1,
   "metadata": {},
   "outputs": [
    {
     "name": "stdout",
     "output_type": "stream",
     "text": [
      "Done\n"
     ]
    }
   ],
   "source": [
    "name = 'Bob'\n",
    "if name == 'Alice':\n",
    "    print('Hi Alice')\n",
    "print('Done')"
   ]
  },
  {
   "cell_type": "markdown",
   "metadata": {},
   "source": [
    "## While Loops\n",
    "\n",
    "Making a block of code iterate multiple times as long as the While statement is True."
   ]
  },
  {
   "cell_type": "code",
   "execution_count": 2,
   "metadata": {},
   "outputs": [
    {
     "name": "stdout",
     "output_type": "stream",
     "text": [
      "Hello World!\n",
      "Hello World!\n",
      "Hello World!\n",
      "Hello World!\n",
      "Hello World!\n"
     ]
    }
   ],
   "source": [
    "code = 0\n",
    "\n",
    "# loop through while loop until code = 5\n",
    "while code < 5:\n",
    "    print('Hello World!')\n",
    "    code += 1"
   ]
  },
  {
   "cell_type": "code",
   "execution_count": 3,
   "metadata": {},
   "outputs": [
    {
     "name": "stdout",
     "output_type": "stream",
     "text": [
      "Please type your name\n",
      "Please type your name\n",
      "Please type your name\n",
      "Thank You\n"
     ]
    }
   ],
   "source": [
    "# request that a user input their name until they exit the program\n",
    "\n",
    "name = ''\n",
    "while name != 'your name':\n",
    "    print('Please type your name')\n",
    "    name = input()\n",
    "print('Thank You')"
   ]
  },
  {
   "cell_type": "markdown",
   "metadata": {},
   "source": [
    "ctrl/cmd + c will quit a code that's stuck in a loop"
   ]
  },
  {
   "cell_type": "code",
   "execution_count": 4,
   "metadata": {},
   "outputs": [
    {
     "name": "stdout",
     "output_type": "stream",
     "text": [
      "Please type your name\n",
      "Please type your name\n",
      "Please type your name\n",
      "Thank You\n"
     ]
    }
   ],
   "source": [
    "# another way to write the above code\n",
    "name = ''\n",
    "while True:\n",
    "    print('Please type your name')\n",
    "    name = input()\n",
    "    if name == 'your name':\n",
    "        break\n",
    "print('Thank You')"
   ]
  },
  {
   "cell_type": "markdown",
   "metadata": {},
   "source": [
    "The continue statement will forgo the current code but continue through the loop:"
   ]
  },
  {
   "cell_type": "code",
   "execution_count": 10,
   "metadata": {},
   "outputs": [
    {
     "name": "stdout",
     "output_type": "stream",
     "text": [
      "Spam is 1\n",
      "Spam is 2\n",
      "Spam is 4\n",
      "Spam is 5\n"
     ]
    }
   ],
   "source": [
    "# continue\n",
    "\n",
    "spam = 0\n",
    "\n",
    "while spam < 5:\n",
    "    spam += 1\n",
    "    if spam == 3:\n",
    "        continue # will skip printing 3 but continue\n",
    "    print('Spam is {}'.format(spam))"
   ]
  },
  {
   "cell_type": "markdown",
   "metadata": {},
   "source": [
    "## For Loop\n",
    "\n",
    "A For Loop iterates a specific number of times"
   ]
  },
  {
   "cell_type": "code",
   "execution_count": 13,
   "metadata": {},
   "outputs": [
    {
     "name": "stdout",
     "output_type": "stream",
     "text": [
      "My name is\n",
      "Jimmy Five Times 0\n",
      "Jimmy Five Times 1\n",
      "Jimmy Five Times 2\n",
      "Jimmy Five Times 3\n",
      "Jimmy Five Times 4\n"
     ]
    }
   ],
   "source": [
    "print('My name is')\n",
    "\n",
    "# iterate 5 times -- i == 0 in the beginning\n",
    "for i in range(5):\n",
    "    print('Jimmy Five Times {}'.format(str(i)))"
   ]
  },
  {
   "cell_type": "markdown",
   "metadata": {},
   "source": [
    "Print out the sum of every number from 1 to 100 [real quick]:"
   ]
  },
  {
   "cell_type": "code",
   "execution_count": 16,
   "metadata": {},
   "outputs": [
    {
     "name": "stdout",
     "output_type": "stream",
     "text": [
      "5050\n"
     ]
    }
   ],
   "source": [
    "# 0 - 100\n",
    "total = 0\n",
    "\n",
    "for num in range(101):\n",
    "    total += num\n",
    "print(total)"
   ]
  },
  {
   "cell_type": "markdown",
   "metadata": {},
   "source": [
    "Jimmy Five Times using a **while loop**"
   ]
  },
  {
   "cell_type": "code",
   "execution_count": 24,
   "metadata": {},
   "outputs": [
    {
     "name": "stdout",
     "output_type": "stream",
     "text": [
      "My name is\n",
      "Jimmy Five Times 0\n",
      "Jimmy Five Times 1\n",
      "Jimmy Five Times 2\n",
      "Jimmy Five Times 3\n",
      "Jimmy Five Times 4\n"
     ]
    }
   ],
   "source": [
    "print('My name is')\n",
    "i = 0 # for loop negates the need for these extra lines of code\n",
    "\n",
    "while i < 5:\n",
    "    print('Jimmy Five Times {}'.format(str(i)))\n",
    "    i += 1 # for loop negates the need for these extra lines of code"
   ]
  },
  {
   "cell_type": "code",
   "execution_count": 30,
   "metadata": {},
   "outputs": [
    {
     "name": "stdout",
     "output_type": "stream",
     "text": [
      "0\n",
      "10\n",
      "20\n",
      "30\n",
      "40\n",
      "50\n",
      "60\n",
      "70\n",
      "80\n",
      "90\n",
      "100\n"
     ]
    }
   ],
   "source": [
    "# step argument, which signifies the steps in a count\n",
    "# the code below counts to 100 by 10\n",
    "\n",
    "for i in range(0,110,10):\n",
    "    print(i)"
   ]
  },
  {
   "cell_type": "code",
   "execution_count": 32,
   "metadata": {},
   "outputs": [
    {
     "name": "stdout",
     "output_type": "stream",
     "text": [
      "100\n",
      "90\n",
      "80\n",
      "70\n",
      "60\n",
      "50\n",
      "40\n",
      "30\n",
      "20\n",
      "10\n",
      "0\n"
     ]
    }
   ],
   "source": [
    "for i in range(100,-10,-10):\n",
    "    print(i)"
   ]
  },
  {
   "cell_type": "code",
   "execution_count": 34,
   "metadata": {},
   "outputs": [
    {
     "name": "stdout",
     "output_type": "stream",
     "text": [
      "Who are you?\n",
      "Hello, Joe. What is the password? (It is a fish.)\n",
      "Access granted.\n"
     ]
    }
   ],
   "source": [
    "while True:\n",
    "       print('Who are you?')\n",
    "       name = input()\n",
    "       if name != 'Joe':\n",
    "           continue\n",
    "       print('Hello, Joe. What is the password? (It is a fish.)')\n",
    "       password = input()\n",
    "       if password == 'swordfish':\n",
    "            break \n",
    "print('Access granted.')"
   ]
  },
  {
   "cell_type": "code",
   "execution_count": 37,
   "metadata": {},
   "outputs": [
    {
     "name": "stdout",
     "output_type": "stream",
     "text": [
      "Type exit to end.\n",
      "You typed hello.\n",
      "Type exit to end.\n",
      "You typed kalia.\n",
      "Type exit to end.\n"
     ]
    }
   ],
   "source": [
    "import sys\n",
    "\n",
    "while True:\n",
    "    print('Type exit to end.')\n",
    "    response = input()\n",
    "    if response == 'exit':\n",
    "        break\n",
    "    print('You typed {}.'.format(response))"
   ]
  },
  {
   "cell_type": "markdown",
   "metadata": {},
   "source": [
    "## Practice Questions\n",
    "\n",
    "1. What are the two values of the Boolean data type? How do you write them?\n",
    "    > `True and False`\n",
    "    \n",
    "2. What are the three Boolean operators?\n",
    "> hello\n",
    "\n",
    "5. What are the six comparison operators?\n",
    "6. What is the difference between the equal to operator and the assign- ment operator?\n",
    "7. Explain what a condition is and where you would use one.\n",
    "8. Identify the three blocks in this code:\n",
    "\n",
    "        spam = 0\n",
    "         if spam == 10:\n",
    "             print('eggs')\n",
    "             if spam > 5:\n",
    "                 print('bacon')\n",
    "             else:\n",
    "                 print('ham')\n",
    "             print('spam')\n",
    "         print('spam')                 \n",
    "\n",
    "9. Write code that prints Hello if 1 is stored in spam, prints Howdy if 2 is stored in spam, and prints Greetings! if anything else is stored in spam.\n",
    "10. What can you press if your program is stuck in an in nite loop?\n",
    "11. What is the difference between break and continue?\n",
    "12. What is the difference between range(10), range(0, 10), and range(0, 10, 1) in a for loop?\n",
    "13. Write a short program that prints the numbers 1 to 10 using a for loop. Then write an equivalent program that prints the numbers 1 to 10 using a while loop.\n",
    "14. If you had a function named bacon() inside a module named spam, how would you call it after importing spam?\n",
    "\n",
    "Extra credit: Look up the round() and abs() functions on the Internet, and  nd out what they do. Experiment with them in the interactive shell."
   ]
  },
  {
   "cell_type": "code",
   "execution_count": null,
   "metadata": {},
   "outputs": [],
   "source": []
  }
 ],
 "metadata": {
  "kernelspec": {
   "display_name": "Python 3",
   "language": "python",
   "name": "python3"
  },
  "language_info": {
   "codemirror_mode": {
    "name": "ipython",
    "version": 3
   },
   "file_extension": ".py",
   "mimetype": "text/x-python",
   "name": "python",
   "nbconvert_exporter": "python",
   "pygments_lexer": "ipython3",
   "version": "3.6.4"
  }
 },
 "nbformat": 4,
 "nbformat_minor": 2
}
